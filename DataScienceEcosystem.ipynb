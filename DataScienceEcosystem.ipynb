{
 "cells": [
  {
   "cell_type": "markdown",
   "id": "176a5cdf",
   "metadata": {},
   "source": [
    "# Data Science Tools and Ecosystem"
   ]
  },
  {
   "cell_type": "markdown",
   "id": "73223e1c",
   "metadata": {},
   "source": [
    "In this notebook, Data Science Tools and Ecosystem are summarized."
   ]
  },
  {
   "cell_type": "markdown",
   "id": "5130e778",
   "metadata": {},
   "source": [
    "Some of the popular languages that Data Scientists use are:\n",
    "1. Python\n",
    "2. R\n",
    "3. SQL\n",
    "4. Scalia\n"
   ]
  },
  {
   "cell_type": "markdown",
   "id": "b7371b71",
   "metadata": {},
   "source": [
    "Some of the commonly used libraries used by Data Scientists include:\n",
    "1. caret\n",
    "2. ggplot\n",
    "3. stringer\n",
    "4. Pandas\n",
    "5. Matplotlib"
   ]
  },
  {
   "cell_type": "markdown",
   "id": "e058936e",
   "metadata": {},
   "source": [
    "<table align=left><tr><th>Data Science Tools</th></tr>\n",
    "\n",
    "    \n",
    "<tr><td style='text-align: left'>VS Code</td></tr>\n",
    "    <tr><td style='text-align: left'>RStudio</td></tr>\n",
    "    <tr><td style='text-align: left'>Anaconda</td></tr>\n",
    "    </table>\n",
    "\n",
    "    "
   ]
  },
  {
   "cell_type": "markdown",
   "id": "07c7dc60",
   "metadata": {},
   "source": [
    "<h3>Below are a few examples of evaluating arithmetic expressions in Python</h3>"
   ]
  },
  {
   "cell_type": "code",
   "execution_count": 3,
   "id": "514da714",
   "metadata": {},
   "outputs": [
    {
     "data": {
      "text/plain": [
       "17"
      ]
     },
     "execution_count": 3,
     "metadata": {},
     "output_type": "execute_result"
    }
   ],
   "source": [
    "#This a simple arithmetic expression to mutiply then add integers\n",
    "(3*4+5)"
   ]
  },
  {
   "cell_type": "code",
   "execution_count": 4,
   "id": "57b74f07",
   "metadata": {},
   "outputs": [
    {
     "name": "stdout",
     "output_type": "stream",
     "text": [
      "200 minutes is 3.3333333333333335 hours.\n"
     ]
    }
   ],
   "source": [
    "#This will convert 200 minutes to hours by diving by 60\n",
    "\n",
    "print(\"200 minutes is \" + (str)(200/60) + \" hours.\")"
   ]
  },
  {
   "cell_type": "markdown",
   "id": "3cb87be0",
   "metadata": {},
   "source": [
    "<b>Objectives</b>\n",
    " - List commonly used libraries used by Data Scientists\n",
    " - Learn Popular languages Data Scientists use\n",
    " - Get Exposure to Data Science Tools"
   ]
  },
  {
   "cell_type": "markdown",
   "id": "ba9b3295",
   "metadata": {},
   "source": [
    "## Author\n",
    "Brian Farrell"
   ]
  }
 ],
 "metadata": {
  "kernelspec": {
   "display_name": "Python 3 (ipykernel)",
   "language": "python",
   "name": "python3"
  },
  "language_info": {
   "codemirror_mode": {
    "name": "ipython",
    "version": 3
   },
   "file_extension": ".py",
   "mimetype": "text/x-python",
   "name": "python",
   "nbconvert_exporter": "python",
   "pygments_lexer": "ipython3",
   "version": "3.10.12"
  }
 },
 "nbformat": 4,
 "nbformat_minor": 5
}
